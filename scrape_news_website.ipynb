{
  "nbformat": 4,
  "nbformat_minor": 0,
  "metadata": {
    "colab": {
      "provenance": [],
      "authorship_tag": "ABX9TyPWDLcVOv7C6ReHllofHfDu",
      "include_colab_link": true
    },
    "kernelspec": {
      "name": "python3",
      "display_name": "Python 3"
    },
    "language_info": {
      "name": "python"
    }
  },
  "cells": [
    {
      "cell_type": "markdown",
      "metadata": {
        "id": "view-in-github",
        "colab_type": "text"
      },
      "source": [
        "<a href=\"https://colab.research.google.com/github/Declan-Bracken/Khthon/blob/master/scrape_news_website.ipynb\" target=\"_parent\"><img src=\"https://colab.research.google.com/assets/colab-badge.svg\" alt=\"Open In Colab\"/></a>"
      ]
    },
    {
      "cell_type": "code",
      "execution_count": 1,
      "metadata": {
        "colab": {
          "base_uri": "https://localhost:8080/"
        },
        "id": "uElATBkvc76F",
        "outputId": "7c6070c0-6d28-472f-9eaa-449385f9e7dc"
      },
      "outputs": [
        {
          "output_type": "stream",
          "name": "stdout",
          "text": [
            "Requirement already satisfied: requests in /usr/local/lib/python3.10/dist-packages (2.32.3)\n",
            "Requirement already satisfied: beautifulsoup4 in /usr/local/lib/python3.10/dist-packages (4.12.3)\n",
            "Requirement already satisfied: charset-normalizer<4,>=2 in /usr/local/lib/python3.10/dist-packages (from requests) (3.3.2)\n",
            "Requirement already satisfied: idna<4,>=2.5 in /usr/local/lib/python3.10/dist-packages (from requests) (3.7)\n",
            "Requirement already satisfied: urllib3<3,>=1.21.1 in /usr/local/lib/python3.10/dist-packages (from requests) (2.0.7)\n",
            "Requirement already satisfied: certifi>=2017.4.17 in /usr/local/lib/python3.10/dist-packages (from requests) (2024.7.4)\n",
            "Requirement already satisfied: soupsieve>1.2 in /usr/local/lib/python3.10/dist-packages (from beautifulsoup4) (2.6)\n"
          ]
        }
      ],
      "source": [
        "pip install requests beautifulsoup4"
      ]
    },
    {
      "cell_type": "code",
      "source": [
        "pip install streamlit"
      ],
      "metadata": {
        "colab": {
          "base_uri": "https://localhost:8080/"
        },
        "id": "SHG7r8_NmvaA",
        "outputId": "e4632d93-0fff-4004-8630-d5a9173b9dcc"
      },
      "execution_count": 15,
      "outputs": [
        {
          "output_type": "stream",
          "name": "stdout",
          "text": [
            "Collecting streamlit\n",
            "  Downloading streamlit-1.38.0-py2.py3-none-any.whl.metadata (8.5 kB)\n",
            "Requirement already satisfied: altair<6,>=4.0 in /usr/local/lib/python3.10/dist-packages (from streamlit) (4.2.2)\n",
            "Requirement already satisfied: blinker<2,>=1.0.0 in /usr/lib/python3/dist-packages (from streamlit) (1.4)\n",
            "Requirement already satisfied: cachetools<6,>=4.0 in /usr/local/lib/python3.10/dist-packages (from streamlit) (5.5.0)\n",
            "Requirement already satisfied: click<9,>=7.0 in /usr/local/lib/python3.10/dist-packages (from streamlit) (8.1.7)\n",
            "Requirement already satisfied: numpy<3,>=1.20 in /usr/local/lib/python3.10/dist-packages (from streamlit) (1.26.4)\n",
            "Requirement already satisfied: packaging<25,>=20 in /usr/local/lib/python3.10/dist-packages (from streamlit) (24.1)\n",
            "Requirement already satisfied: pandas<3,>=1.3.0 in /usr/local/lib/python3.10/dist-packages (from streamlit) (2.1.4)\n",
            "Requirement already satisfied: pillow<11,>=7.1.0 in /usr/local/lib/python3.10/dist-packages (from streamlit) (9.4.0)\n",
            "Requirement already satisfied: protobuf<6,>=3.20 in /usr/local/lib/python3.10/dist-packages (from streamlit) (3.20.3)\n",
            "Requirement already satisfied: pyarrow>=7.0 in /usr/local/lib/python3.10/dist-packages (from streamlit) (14.0.2)\n",
            "Requirement already satisfied: requests<3,>=2.27 in /usr/local/lib/python3.10/dist-packages (from streamlit) (2.32.3)\n",
            "Requirement already satisfied: rich<14,>=10.14.0 in /usr/local/lib/python3.10/dist-packages (from streamlit) (13.7.1)\n",
            "Collecting tenacity<9,>=8.1.0 (from streamlit)\n",
            "  Downloading tenacity-8.5.0-py3-none-any.whl.metadata (1.2 kB)\n",
            "Requirement already satisfied: toml<2,>=0.10.1 in /usr/local/lib/python3.10/dist-packages (from streamlit) (0.10.2)\n",
            "Requirement already satisfied: typing-extensions<5,>=4.3.0 in /usr/local/lib/python3.10/dist-packages (from streamlit) (4.12.2)\n",
            "Collecting gitpython!=3.1.19,<4,>=3.0.7 (from streamlit)\n",
            "  Downloading GitPython-3.1.43-py3-none-any.whl.metadata (13 kB)\n",
            "Collecting pydeck<1,>=0.8.0b4 (from streamlit)\n",
            "  Downloading pydeck-0.9.1-py2.py3-none-any.whl.metadata (4.1 kB)\n",
            "Requirement already satisfied: tornado<7,>=6.0.3 in /usr/local/lib/python3.10/dist-packages (from streamlit) (6.3.3)\n",
            "Collecting watchdog<5,>=2.1.5 (from streamlit)\n",
            "  Downloading watchdog-4.0.2-py3-none-manylinux2014_x86_64.whl.metadata (38 kB)\n",
            "Requirement already satisfied: entrypoints in /usr/local/lib/python3.10/dist-packages (from altair<6,>=4.0->streamlit) (0.4)\n",
            "Requirement already satisfied: jinja2 in /usr/local/lib/python3.10/dist-packages (from altair<6,>=4.0->streamlit) (3.1.4)\n",
            "Requirement already satisfied: jsonschema>=3.0 in /usr/local/lib/python3.10/dist-packages (from altair<6,>=4.0->streamlit) (4.23.0)\n",
            "Requirement already satisfied: toolz in /usr/local/lib/python3.10/dist-packages (from altair<6,>=4.0->streamlit) (0.12.1)\n",
            "Collecting gitdb<5,>=4.0.1 (from gitpython!=3.1.19,<4,>=3.0.7->streamlit)\n",
            "  Downloading gitdb-4.0.11-py3-none-any.whl.metadata (1.2 kB)\n",
            "Requirement already satisfied: python-dateutil>=2.8.2 in /usr/local/lib/python3.10/dist-packages (from pandas<3,>=1.3.0->streamlit) (2.8.2)\n",
            "Requirement already satisfied: pytz>=2020.1 in /usr/local/lib/python3.10/dist-packages (from pandas<3,>=1.3.0->streamlit) (2024.1)\n",
            "Requirement already satisfied: tzdata>=2022.1 in /usr/local/lib/python3.10/dist-packages (from pandas<3,>=1.3.0->streamlit) (2024.1)\n",
            "Requirement already satisfied: charset-normalizer<4,>=2 in /usr/local/lib/python3.10/dist-packages (from requests<3,>=2.27->streamlit) (3.3.2)\n",
            "Requirement already satisfied: idna<4,>=2.5 in /usr/local/lib/python3.10/dist-packages (from requests<3,>=2.27->streamlit) (3.7)\n",
            "Requirement already satisfied: urllib3<3,>=1.21.1 in /usr/local/lib/python3.10/dist-packages (from requests<3,>=2.27->streamlit) (2.0.7)\n",
            "Requirement already satisfied: certifi>=2017.4.17 in /usr/local/lib/python3.10/dist-packages (from requests<3,>=2.27->streamlit) (2024.7.4)\n",
            "Requirement already satisfied: markdown-it-py>=2.2.0 in /usr/local/lib/python3.10/dist-packages (from rich<14,>=10.14.0->streamlit) (3.0.0)\n",
            "Requirement already satisfied: pygments<3.0.0,>=2.13.0 in /usr/local/lib/python3.10/dist-packages (from rich<14,>=10.14.0->streamlit) (2.16.1)\n",
            "Collecting smmap<6,>=3.0.1 (from gitdb<5,>=4.0.1->gitpython!=3.1.19,<4,>=3.0.7->streamlit)\n",
            "  Downloading smmap-5.0.1-py3-none-any.whl.metadata (4.3 kB)\n",
            "Requirement already satisfied: MarkupSafe>=2.0 in /usr/local/lib/python3.10/dist-packages (from jinja2->altair<6,>=4.0->streamlit) (2.1.5)\n",
            "Requirement already satisfied: attrs>=22.2.0 in /usr/local/lib/python3.10/dist-packages (from jsonschema>=3.0->altair<6,>=4.0->streamlit) (24.2.0)\n",
            "Requirement already satisfied: jsonschema-specifications>=2023.03.6 in /usr/local/lib/python3.10/dist-packages (from jsonschema>=3.0->altair<6,>=4.0->streamlit) (2023.12.1)\n",
            "Requirement already satisfied: referencing>=0.28.4 in /usr/local/lib/python3.10/dist-packages (from jsonschema>=3.0->altair<6,>=4.0->streamlit) (0.35.1)\n",
            "Requirement already satisfied: rpds-py>=0.7.1 in /usr/local/lib/python3.10/dist-packages (from jsonschema>=3.0->altair<6,>=4.0->streamlit) (0.20.0)\n",
            "Requirement already satisfied: mdurl~=0.1 in /usr/local/lib/python3.10/dist-packages (from markdown-it-py>=2.2.0->rich<14,>=10.14.0->streamlit) (0.1.2)\n",
            "Requirement already satisfied: six>=1.5 in /usr/local/lib/python3.10/dist-packages (from python-dateutil>=2.8.2->pandas<3,>=1.3.0->streamlit) (1.16.0)\n",
            "Downloading streamlit-1.38.0-py2.py3-none-any.whl (8.7 MB)\n",
            "\u001b[2K   \u001b[90m━━━━━━━━━━━━━━━━━━━━━━━━━━━━━━━━━━━━━━━━\u001b[0m \u001b[32m8.7/8.7 MB\u001b[0m \u001b[31m66.6 MB/s\u001b[0m eta \u001b[36m0:00:00\u001b[0m\n",
            "\u001b[?25hDownloading GitPython-3.1.43-py3-none-any.whl (207 kB)\n",
            "\u001b[2K   \u001b[90m━━━━━━━━━━━━━━━━━━━━━━━━━━━━━━━━━━━━━━━━\u001b[0m \u001b[32m207.3/207.3 kB\u001b[0m \u001b[31m16.5 MB/s\u001b[0m eta \u001b[36m0:00:00\u001b[0m\n",
            "\u001b[?25hDownloading pydeck-0.9.1-py2.py3-none-any.whl (6.9 MB)\n",
            "\u001b[2K   \u001b[90m━━━━━━━━━━━━━━━━━━━━━━━━━━━━━━━━━━━━━━━━\u001b[0m \u001b[32m6.9/6.9 MB\u001b[0m \u001b[31m66.2 MB/s\u001b[0m eta \u001b[36m0:00:00\u001b[0m\n",
            "\u001b[?25hDownloading tenacity-8.5.0-py3-none-any.whl (28 kB)\n",
            "Downloading watchdog-4.0.2-py3-none-manylinux2014_x86_64.whl (82 kB)\n",
            "\u001b[2K   \u001b[90m━━━━━━━━━━━━━━━━━━━━━━━━━━━━━━━━━━━━━━━━\u001b[0m \u001b[32m82.9/82.9 kB\u001b[0m \u001b[31m6.4 MB/s\u001b[0m eta \u001b[36m0:00:00\u001b[0m\n",
            "\u001b[?25hDownloading gitdb-4.0.11-py3-none-any.whl (62 kB)\n",
            "\u001b[2K   \u001b[90m━━━━━━━━━━━━━━━━━━━━━━━━━━━━━━━━━━━━━━━━\u001b[0m \u001b[32m62.7/62.7 kB\u001b[0m \u001b[31m4.9 MB/s\u001b[0m eta \u001b[36m0:00:00\u001b[0m\n",
            "\u001b[?25hDownloading smmap-5.0.1-py3-none-any.whl (24 kB)\n",
            "Installing collected packages: watchdog, tenacity, smmap, pydeck, gitdb, gitpython, streamlit\n",
            "  Attempting uninstall: tenacity\n",
            "    Found existing installation: tenacity 9.0.0\n",
            "    Uninstalling tenacity-9.0.0:\n",
            "      Successfully uninstalled tenacity-9.0.0\n",
            "Successfully installed gitdb-4.0.11 gitpython-3.1.43 pydeck-0.9.1 smmap-5.0.1 streamlit-1.38.0 tenacity-8.5.0 watchdog-4.0.2\n"
          ]
        }
      ]
    },
    {
      "cell_type": "code",
      "source": [
        "pip install pyngrok"
      ],
      "metadata": {
        "colab": {
          "base_uri": "https://localhost:8080/"
        },
        "id": "q3AZ-oV0oqpH",
        "outputId": "fedfe4b5-65a3-470d-f4b0-b89d5aba6438"
      },
      "execution_count": 24,
      "outputs": [
        {
          "output_type": "stream",
          "name": "stdout",
          "text": [
            "Collecting pyngrok\n",
            "  Downloading pyngrok-7.2.0-py3-none-any.whl.metadata (7.4 kB)\n",
            "Requirement already satisfied: PyYAML>=5.1 in /usr/local/lib/python3.10/dist-packages (from pyngrok) (6.0.2)\n",
            "Downloading pyngrok-7.2.0-py3-none-any.whl (22 kB)\n",
            "Installing collected packages: pyngrok\n",
            "Successfully installed pyngrok-7.2.0\n"
          ]
        }
      ]
    },
    {
      "cell_type": "code",
      "source": [
        "import streamlit as st\n",
        "import requests\n",
        "from bs4 import BeautifulSoup\n",
        "import re\n",
        "import json\n"
      ],
      "metadata": {
        "id": "bLn4kGz4dBSK"
      },
      "execution_count": 17,
      "outputs": []
    },
    {
      "cell_type": "code",
      "source": [
        "%%writefile app.py\n",
        "import streamlit as st\n",
        "import requests\n",
        "from bs4 import BeautifulSoup\n",
        "import re\n",
        "import json\n",
        "\n",
        "def extract_articles_from_script(script_content):\n",
        "    pattern = re.compile(r'da2a.targets=\\[(.*?)\\];', re.DOTALL)\n",
        "    match = pattern.search(script_content)\n",
        "    if not match:\n",
        "        st.write(\"No articles found in the script.\")\n",
        "        return []\n",
        "\n",
        "    json_str = '[' + match.group(1).replace('url:', '\"url\":').replace('title:', '\"title\":') + ']'\n",
        "    try:\n",
        "        articles = json.loads(json_str)\n",
        "    except json.JSONDecodeError as e:\n",
        "        st.write(f\"Error decoding JSON: {e}\")\n",
        "        return []\n",
        "\n",
        "    return articles\n",
        "\n",
        "def get_article_content(url):\n",
        "    response = requests.get(url)\n",
        "\n",
        "    if response.status_code != 200:\n",
        "        st.write(f\"Failed to retrieve content from {url}. Status code: {response.status_code}\")\n",
        "        return None\n",
        "\n",
        "    soup = BeautifulSoup(response.content, 'html.parser')\n",
        "    article_body = soup.find('div', class_='article-body')  # Example class; change as needed\n",
        "    if article_body:\n",
        "        return article_body.get_text(strip=True)\n",
        "    else:\n",
        "        return soup.get_text(strip=True)  # Fallback to raw text if no specific class is found\n",
        "\n",
        "def search_articles(keyword):\n",
        "    url = search_url + keyword\n",
        "    response = requests.get(url, headers=headers)\n",
        "\n",
        "    if response.status_code != 200:\n",
        "        st.write(f\"Failed to retrieve data for {keyword}. Status code: {response.status_code}\")\n",
        "        return\n",
        "\n",
        "    script_content = response.text\n",
        "    articles = extract_articles_from_script(script_content)\n",
        "\n",
        "    if not articles:\n",
        "        st.write(f\"No articles found for {keyword}.\")\n",
        "        return\n",
        "\n",
        "    for article in articles:\n",
        "        title = article['title']\n",
        "        article_url = article['url']\n",
        "        st.subheader(title)\n",
        "        st.write(f\"[Read Article]({article_url})\")\n",
        "\n",
        "        if st.button(f\"Read More - {title}\"):\n",
        "            content = get_article_content(article_url)\n",
        "            if content:\n",
        "                st.text_area(f\"Content - {title}\", content, height=300)\n",
        "            else:\n",
        "                st.write(\"Content could not be retrieved.\")\n",
        "\n",
        "# Streamlit app layout\n",
        "st.title(\"Article Search and Display for Boko Haram Related Topics\")\n",
        "\n",
        "# Keywords related to Boko Haram\n",
        "keywords = [\"Boko Haram\", \"Sambisa Forest\", \"Borno State\", \"Chibok\", \"Maiduguri\"]\n",
        "\n",
        "# Correct search URL for the African Union website\n",
        "search_url = \"https://au.int/en/search/node/\"\n",
        "\n",
        "# Define headers to mimic a browser request\n",
        "headers = {\n",
        "    'User-Agent': 'Mozilla/5.0 (Windows NT 10.0; Win64; x64) AppleWebKit/537.36 (KHTML, like Gecko) Chrome/91.0.4472.124 Safari/537.36',\n",
        "    'Accept-Language': 'en-US,en;q=0.9',\n",
        "    'Accept-Encoding': 'gzip, deflate, br',\n",
        "    'Accept': 'text/html,application/xhtml+xml,application/xml;q=0.9,image/avif,image/webp,*/*;q=0.8',\n",
        "    'Connection': 'keep-alive',\n",
        "    'Upgrade-Insecure-Requests': '1'\n",
        "}\n",
        "\n",
        "# Iterate over the keywords and perform the search\n",
        "for keyword in keywords:\n",
        "    st.write(f\"### Searching for articles with keyword: {keyword}\")\n",
        "    search_articles(keyword)\n",
        "    st.write(\"-\" * 80)\n"
      ],
      "metadata": {
        "colab": {
          "base_uri": "https://localhost:8080/"
        },
        "id": "R3SS5n6Co0OT",
        "outputId": "11bcec75-328b-4b64-877c-192897445980"
      },
      "execution_count": 25,
      "outputs": [
        {
          "output_type": "stream",
          "name": "stdout",
          "text": [
            "Writing app.py\n"
          ]
        }
      ]
    },
    {
      "cell_type": "code",
      "source": [
        "from pyngrok import ngrok\n",
        "\n",
        "# Set your authtoken\n",
        "ngrok.set_auth_token(\"2lHkyp8C4dfxUUNd7DnfFh882pM_7w2rCXXt98NpHnUwUHuoQ\")\n",
        "\n",
        "# Start the Streamlit app in the background\n",
        "!streamlit run app.py --server.port 8001\n",
        "\n",
        "# Wait for a few seconds to allow Streamlit to start\n",
        "import time\n",
        "time.sleep(5)\n",
        "\n",
        "# Then connect ngrok, explicitly specifying HTTP protocol\n",
        "public_url = ngrok.connect(8000, proto='http') # Use integer for port, and specify protocol\n",
        "print(f\"Public URL: {public_url}\")\n"
      ],
      "metadata": {
        "colab": {
          "base_uri": "https://localhost:8080/"
        },
        "id": "BwrQLcPWo5i_",
        "outputId": "711f1953-4258-4f77-8ea4-5ab8c803b9fd"
      },
      "execution_count": 37,
      "outputs": [
        {
          "output_type": "stream",
          "name": "stdout",
          "text": [
            "\n",
            "Collecting usage statistics. To deactivate, set browser.gatherUsageStats to false.\n",
            "\u001b[0m\n",
            "\u001b[0m\n",
            "\u001b[34m\u001b[1m  You can now view your Streamlit app in your browser.\u001b[0m\n",
            "\u001b[0m\n",
            "\u001b[34m  Local URL: \u001b[0m\u001b[1mhttp://localhost:8001\u001b[0m\n",
            "\u001b[34m  Network URL: \u001b[0m\u001b[1mhttp://172.28.0.12:8001\u001b[0m\n",
            "\u001b[34m  External URL: \u001b[0m\u001b[1mhttp://34.85.148.43:8001\u001b[0m\n",
            "\u001b[0m\n",
            "\u001b[34m  Stopping...\u001b[0m\n",
            "\u001b[34m  Stopping...\u001b[0m\n",
            "Public URL: NgrokTunnel: \"https://d676-34-85-148-43.ngrok-free.app\" -> \"http://localhost:8000\"\n"
          ]
        }
      ]
    },
    {
      "cell_type": "code",
      "source": [
        "# Keywords related to Boko Haram\n",
        "keywords = [\"Boko Haram\", \"Sambisa Forest\", \"Borno State\", \"Chibok\", \"Maiduguri\"]\n",
        "\n",
        "# Correct search URL for the African Union website\n",
        "search_url = \"https://au.int/en/search/node/\"\n",
        "\n",
        "# Define headers to mimic a browser request\n",
        "headers = {\n",
        "    'User-Agent': 'Mozilla/5.0 (Windows NT 10.0; Win64; x64) AppleWebKit/537.36 (KHTML, like Gecko) Chrome/91.0.4472.124 Safari/537.36',\n",
        "    'Accept-Language': 'en-US,en;q=0.9',\n",
        "    'Accept-Encoding': 'gzip, deflate, br',\n",
        "    'Accept': 'text/html,application/xhtml+xml,application/xml;q=0.9,image/avif,image/webp,*/*;q=0.8',\n",
        "    'Connection': 'keep-alive',\n",
        "    'Upgrade-Insecure-Requests': '1'\n",
        "}\n"
      ],
      "metadata": {
        "id": "EgbV0e5edEE3"
      },
      "execution_count": 38,
      "outputs": []
    },
    {
      "cell_type": "code",
      "source": [],
      "metadata": {
        "colab": {
          "base_uri": "https://localhost:8080/"
        },
        "id": "duqseb6OoWlT",
        "outputId": "3c64801c-ad8e-4eb1-9f60-b17d0ed948af"
      },
      "execution_count": 21,
      "outputs": [
        {
          "output_type": "stream",
          "name": "stderr",
          "text": [
            "2024-08-28 10:56:43.908 WARNING streamlit.runtime.scriptrunner_utils.script_run_context: Thread 'MainThread': missing ScriptRunContext! This warning can be ignored when running in bare mode.\n",
            "2024-08-28 10:56:44.072 \n",
            "  \u001b[33m\u001b[1mWarning:\u001b[0m to view this Streamlit app on a browser, run it with the following\n",
            "  command:\n",
            "\n",
            "    streamlit run /usr/local/lib/python3.10/dist-packages/colab_kernel_launcher.py [ARGUMENTS]\n",
            "2024-08-28 10:56:44.074 Thread 'MainThread': missing ScriptRunContext! This warning can be ignored when running in bare mode.\n"
          ]
        }
      ]
    },
    {
      "cell_type": "code",
      "source": [
        "\"\"\"  def extract_articles_from_script(script_content):\n",
        "      # Print part of the script content to help with debugging\n",
        "      if \"advagg_mod_defer_1()\" in script_content:\n",
        "          index = script_content.index(\"advagg_mod_defer_1()\")\n",
        "          print(\"Script snippet around function call:\")\n",
        "          print(script_content[index-100:])  # Adjust the range as needed\n",
        "\n",
        "      # Use a regular expression to find the JSON-like part in the script\n",
        "      pattern = re.compile(r'da2a.targets=\\[(.*?)\\];', re.DOTALL)\n",
        "      match = pattern.search(script_content)\n",
        "      if not match:\n",
        "          print(\"No articles found in the script.\")\n",
        "          return []\n",
        "\n",
        "      # Extract the JSON-like string\n",
        "      json_str = '[' + match.group(1).replace('url:', '\"url\":').replace('title:', '\"title\":') + ']'\n",
        "\n",
        "      # Debugging: Print the JSON string\n",
        "      print(\"Extracted JSON string:\")\n",
        "      print(json_str[:1000])  # Print a portion of the JSON string to verify its format\n",
        "\n",
        "\n",
        "      # Parse the JSON string to a Python list\n",
        "      try:\n",
        "          articles = json.loads(json_str)\n",
        "      except json.JSONDecodeError as e:\n",
        "          print(f\"Error decoding JSON: {e}\")\n",
        "          return []\n",
        "\n",
        "      return articles\n",
        "      \"\"\""
      ],
      "metadata": {
        "id": "EXyFtGsJr8A2"
      },
      "execution_count": 4,
      "outputs": []
    },
    {
      "cell_type": "code",
      "source": [
        "def extract_articles_from_script(script_content):\n",
        "    # Locate the position of the function call \"advagg_mod_defer_1()\"\n",
        "    if \"advagg_mod_defer_1()\" in script_content:\n",
        "        index = script_content.index(\"advagg_mod_defer_1()\")\n",
        "        # Extract the script content starting from 100 characters before the function call\n",
        "        snippet = script_content[index-100:]\n",
        "        print(\"Script snippet around function call:\")\n",
        "        #print(snippet[:500])  # Adjust the range as needed for debugging\n",
        "\n",
        "        # Use a regular expression to find the JSON-like part in the script snippet\n",
        "        pattern = re.compile(r'da2a.targets=\\[(.*?)\\];', re.DOTALL)\n",
        "        match = pattern.search(snippet)\n",
        "        if not match:\n",
        "            st.write(\"No articles found in the script.\")\n",
        "            return []\n",
        "\n",
        "        # Extract the JSON-like string\n",
        "        json_str = '[' + match.group(1).replace('url:', '\"url\":').replace('title:', '\"title\":') + ']'\n",
        "\n",
        "        # Debugging: Print the JSON string\n",
        "        print(\"Extracted JSON string:\")\n",
        "        print(json_str[:1000])  # Print a portion of the JSON string to verify its format\n",
        "\n",
        "        # Parse the JSON string to a Python list\n",
        "        try:\n",
        "            articles = json.loads(json_str)\n",
        "        except json.JSONDecodeError as e:\n",
        "            st.write(f\"Error decoding JSON: {e}\")\n",
        "            return []\n",
        "\n",
        "        return articles\n",
        "    else:\n",
        "        print(\"Function 'advagg_mod_defer_1()' not found in the script content.\")\n",
        "        return []\n",
        ""
      ],
      "metadata": {
        "id": "_oJEmkt_kxRy"
      },
      "execution_count": 43,
      "outputs": []
    },
    {
      "cell_type": "code",
      "source": [],
      "metadata": {
        "id": "it08SAZTnDhB"
      },
      "execution_count": 39,
      "outputs": []
    },
    {
      "cell_type": "code",
      "source": [
        "def get_article_content(url):\n",
        "    # Make a request to the URL\n",
        "    response = requests.get(url)\n",
        "\n",
        "    # Check if the request was successful\n",
        "    if response.status_code != 200:\n",
        "        print(f\"Failed to retrieve content from {url}. Status code: {response.status_code}\")\n",
        "        return None\n",
        "\n",
        "    # Parse the HTML content\n",
        "    soup = BeautifulSoup(response.content, 'html.parser')\n",
        "\n",
        "    # Extract the article content (you may need to adjust the tag/class based on the actual HTML structure)\n",
        "    article_body = soup.find('div', class_='article-body')  # Example class; change as needed\n",
        "    if article_body:\n",
        "        return article_body.get_text(strip=True)\n",
        "    else:\n",
        "        return soup.get_text(strip=True)  # Fallback to raw text if no specific class is found"
      ],
      "metadata": {
        "id": "Y0z64bXlmK5B"
      },
      "execution_count": 40,
      "outputs": []
    },
    {
      "cell_type": "code",
      "source": [
        "\"\"\"def search_articles(keyword):\n",
        "    # Format the search URL with the keyword\n",
        "    url = search_url + keyword\n",
        "\n",
        "    # Make an HTTP request to the website with headers\n",
        "    response = requests.get(url, headers=headers)\n",
        "\n",
        "    # Check if the request was successful\n",
        "    if response.status_code != 200:\n",
        "        print(f\"Failed to retrieve data for {keyword}. Status code: {response.status_code}\")\n",
        "        return\n",
        "\n",
        "    # Extract the relevant part of the script content\n",
        "    script_content = response.text\n",
        "\n",
        "    # Extract articles from the script content\n",
        "    articles = extract_articles_from_script(script_content)\n",
        "\n",
        "    if not articles:\n",
        "        print(f\"No articles found for {keyword}.\")\n",
        "        return\n",
        "\n",
        "    for article in articles:\n",
        "        title = article['title']\n",
        "        url = article['url']\n",
        "        print(f\"Keyword: {keyword}\\nTitle: {title}\\nLink: {url}\\n\")\n",
        "        \"\"\""
      ],
      "metadata": {
        "id": "468MoKeYdGZ8"
      },
      "execution_count": null,
      "outputs": []
    },
    {
      "cell_type": "code",
      "source": [
        "def search_articles(keyword):\n",
        "    url = search_url + keyword\n",
        "    response = requests.get(url, headers=headers)\n",
        "\n",
        "    if response.status_code != 200:\n",
        "        print(f\"Failed to retrieve data for {keyword}. Status code: {response.status_code}\")\n",
        "        return\n",
        "\n",
        "    script_content = response.text\n",
        "    articles = extract_articles_from_script(script_content)\n",
        "\n",
        "    if not articles:\n",
        "        print(f\"No articles found for {keyword}.\")\n",
        "        return\n",
        "\n",
        "    for article in articles:\n",
        "        title = article['title']\n",
        "        article_url = article['url']\n",
        "        print(f\"Title: {title}\\nURL: {article_url}\\n\")\n",
        "\n",
        "        # Get the content of the article\n",
        "        content = get_article_content(article_url)\n",
        "        if content:\n",
        "            print(f\"Content: {content[:500]}...\")  # Display first 500 characters of the content\n",
        "        else:\n",
        "            print(\"Content could not be retrieved.\\n\")\n"
      ],
      "metadata": {
        "id": "vfJyrkHVi9mN"
      },
      "execution_count": 41,
      "outputs": []
    },
    {
      "cell_type": "code",
      "source": [
        "# Search for articles for each keyword\n",
        "for keyword in keywords:\n",
        "    print(f\"Searching for articles with keyword: {keyword}\")\n",
        "    search_articles(keyword)\n",
        "    print(\"-\" * 80)"
      ],
      "metadata": {
        "colab": {
          "base_uri": "https://localhost:8080/"
        },
        "id": "A8czK2bydJDn",
        "outputId": "11112d58-29c1-4134-f331-a616de3c9ba2"
      },
      "execution_count": 44,
      "outputs": [
        {
          "output_type": "stream",
          "name": "stdout",
          "text": [
            "Searching for articles with keyword: Boko Haram\n",
            "Failed to retrieve data for Boko Haram. Status code: 404\n",
            "--------------------------------------------------------------------------------\n",
            "Searching for articles with keyword: Sambisa Forest\n",
            "Failed to retrieve data for Sambisa Forest. Status code: 404\n",
            "--------------------------------------------------------------------------------\n",
            "Searching for articles with keyword: Borno State\n",
            "Failed to retrieve data for Borno State. Status code: 404\n",
            "--------------------------------------------------------------------------------\n",
            "Searching for articles with keyword: Chibok\n",
            "Script snippet around function call:\n",
            "Extracted JSON string:\n",
            "[\n",
            "{\"title\":\"AU welcomes the release of 21 Chibok girls \",\"url\":\"https:\\/\\/au.int\\/en\\/pressreleases\\/20161016\"},\n",
            "{\"title\":\"AU welcomes the release of 21 Chibok girls \",\"url\":\"https:\\/\\/au.int\\/en\\/pressreleases\\/20161016\"},\n",
            "{\"title\":\"Interview with Special Envoy for Women Peace \\u0026 Security\",\"url\":\"https:\\/\\/au.int\\/en\\/articles\\/interview-special-envoy-women-peace-security\"},\n",
            "{\"title\":\"Interview with Special Envoy for Women Peace \\u0026 Security\",\"url\":\"https:\\/\\/au.int\\/en\\/articles\\/interview-special-envoy-women-peace-security\"},\n",
            "{\"title\":\"\\u201cWe must fight against the abduction of girls\\u201d - Dr Nkosazana Dlamini Zuma\",\"url\":\"https:\\/\\/au.int\\/en\\/newsevents\\/20140507\\/we-must-fight-against-abduction-girls-dr-nkosazana-dlamini-zuma\"},\n",
            "{\"title\":\"\\u201cWe must fight against the abduction of girls\\u201d - Dr Nkosazana Dlamini Zuma\",\"url\":\"https:\\/\\/au.int\\/en\\/newsevents\\/20140507\\/we-must-fight-against-abduction-girls-dr-nkosazana-dlamini-zuma\"},\n",
            "{\"title\":\"African Union Specia\n",
            "Title: AU welcomes the release of 21 Chibok girls \n",
            "URL: https://au.int/en/pressreleases/20161016\n",
            "\n",
            "Content: AU welcomes the release of 21 Chibok girls  | African UnionSkip to main contentNewsSeptember 09, 2024toSeptember 13, 2024Africa Industrialization Week (AIW)September 04, 2024toSeptember 06, 2024Africa Urban Forum : “Sustainable Urbanization for Africa’s Transformation: Agenda 2063”August 28, 2024High-Level Event on Commemorating the AU Year of Education 2024August 23, 2024The Government of Rwanda – African Union – UNHCRAugust 20, 2024African Union Peace Fund paving the way for strategic partners...\n",
            "Title: AU welcomes the release of 21 Chibok girls \n",
            "URL: https://au.int/en/pressreleases/20161016\n",
            "\n",
            "Content: AU welcomes the release of 21 Chibok girls  | African UnionSkip to main contentNewsSeptember 09, 2024toSeptember 13, 2024Africa Industrialization Week (AIW)September 04, 2024toSeptember 06, 2024Africa Urban Forum : “Sustainable Urbanization for Africa’s Transformation: Agenda 2063”August 28, 2024High-Level Event on Commemorating the AU Year of Education 2024August 23, 2024The Government of Rwanda – African Union – UNHCRAugust 20, 2024African Union Peace Fund paving the way for strategic partners...\n",
            "Title: Interview with Special Envoy for Women Peace & Security\n",
            "URL: https://au.int/en/articles/interview-special-envoy-women-peace-security\n",
            "\n",
            "Content: Interview with Special Envoy for Women Peace & Security | African UnionSkip to main contentLanguagesالعربيةEnglishFrançaisPortuguêsEspañolKiswahiliWebmailAn Integrated, Prosperous and Peaceful Africa.Top SlidesHOMEWHO WE AREPromoting Africa’s growth and economic development by championing citizen inclusion and increased cooperation and integration of African states.About the African UnionOverviewMember StatesConstitutive ActAU Symbols & AnthemAU LanguagesAU HolidaysAU HandbookAU Structure & Orga...\n",
            "Title: Interview with Special Envoy for Women Peace & Security\n",
            "URL: https://au.int/en/articles/interview-special-envoy-women-peace-security\n",
            "\n",
            "Content: Interview with Special Envoy for Women Peace & Security | African UnionSkip to main contentLanguagesالعربيةEnglishFrançaisPortuguêsEspañolKiswahiliWebmailAn Integrated, Prosperous and Peaceful Africa.Top SlidesHOMEWHO WE AREPromoting Africa’s growth and economic development by championing citizen inclusion and increased cooperation and integration of African states.About the African UnionOverviewMember StatesConstitutive ActAU Symbols & AnthemAU LanguagesAU HolidaysAU HandbookAU Structure & Orga...\n",
            "Title: “We must fight against the abduction of girls” - Dr Nkosazana Dlamini Zuma\n",
            "URL: https://au.int/en/newsevents/20140507/we-must-fight-against-abduction-girls-dr-nkosazana-dlamini-zuma\n",
            "\n",
            "Content: “We must fight against the abduction of girls” - Dr Nkosazana Dlamini Zuma | African UnionSkip to main contentNewsSeptember 09, 2024toSeptember 13, 2024Africa Industrialization Week (AIW)September 04, 2024toSeptember 06, 2024Africa Urban Forum : “Sustainable Urbanization for Africa’s Transformation: Agenda 2063”August 28, 2024High-Level Event on Commemorating the AU Year of Education 2024August 23, 2024The Government of Rwanda – African Union – UNHCRAugust 20, 2024African Union Peace Fund paving...\n",
            "Title: “We must fight against the abduction of girls” - Dr Nkosazana Dlamini Zuma\n",
            "URL: https://au.int/en/newsevents/20140507/we-must-fight-against-abduction-girls-dr-nkosazana-dlamini-zuma\n",
            "\n",
            "Content: “We must fight against the abduction of girls” - Dr Nkosazana Dlamini Zuma | African UnionSkip to main contentNewsSeptember 09, 2024toSeptember 13, 2024Africa Industrialization Week (AIW)September 04, 2024toSeptember 06, 2024Africa Urban Forum : “Sustainable Urbanization for Africa’s Transformation: Agenda 2063”August 28, 2024High-Level Event on Commemorating the AU Year of Education 2024August 23, 2024The Government of Rwanda – African Union – UNHCRAugust 20, 2024African Union Peace Fund paving...\n",
            "Title: African Union Special Envoy on Women, Peace and Security in  Joint UN-AU High-Level Solidarity Mission to Nigeria and The Democratic Republic of Congo (DRC) \n",
            "URL: https://au.int/en/pressreleases/20170905/african-union-special-envoy-women-peace-and-security-joint-un-au-high-level\n",
            "\n",
            "Content: African Union Special Envoy on Women, Peace and Security in  Joint UN-AU High-Level Solidarity Mission to Nigeria and The Democratic Republic of Congo (DRC)  | African UnionSkip to main contentNewsSeptember 09, 2024toSeptember 13, 2024Africa Industrialization Week (AIW)September 04, 2024toSeptember 06, 2024Africa Urban Forum : “Sustainable Urbanization for Africa’s Transformation: Agenda 2063”August 28, 2024High-Level Event on Commemorating the AU Year of Education 2024August 23, 2024The Governm...\n",
            "Title: African Union Special Envoy on Women, Peace and Security in  Joint UN-AU High-Level Solidarity Mission to Nigeria and The Democratic Republic of Congo (DRC) \n",
            "URL: https://au.int/en/pressreleases/20170905/african-union-special-envoy-women-peace-and-security-joint-un-au-high-level\n",
            "\n",
            "Content: African Union Special Envoy on Women, Peace and Security in  Joint UN-AU High-Level Solidarity Mission to Nigeria and The Democratic Republic of Congo (DRC)  | African UnionSkip to main contentNewsSeptember 09, 2024toSeptember 13, 2024Africa Industrialization Week (AIW)September 04, 2024toSeptember 06, 2024Africa Urban Forum : “Sustainable Urbanization for Africa’s Transformation: Agenda 2063”August 28, 2024High-Level Event on Commemorating the AU Year of Education 2024August 23, 2024The Governm...\n",
            "Title: Statement of H.E. Dr. Nkosazana Dlamini Zuma Chairperson of the African Union Commission on occasion of the International Women’s Day\n",
            "URL: https://au.int/en/speeches/20150308\n",
            "\n",
            "Content: Statement of H.E. Dr. Nkosazana Dlamini Zuma Chairperson of the African Union Commission on occasion of the International Women’s Day | African UnionSkip to main contentNewsSeptember 09, 2024toSeptember 13, 2024Africa Industrialization Week (AIW)September 04, 2024toSeptember 06, 2024Africa Urban Forum : “Sustainable Urbanization for Africa’s Transformation: Agenda 2063”August 28, 2024High-Level Event on Commemorating the AU Year of Education 2024August 23, 2024The Government of Rwanda – African ...\n",
            "Title: Statement of H.E. Dr. Nkosazana Dlamini Zuma Chairperson of the African Union Commission on occasion of the International Women’s Day\n",
            "URL: https://au.int/en/speeches/20150308\n",
            "\n",
            "Content: Statement of H.E. Dr. Nkosazana Dlamini Zuma Chairperson of the African Union Commission on occasion of the International Women’s Day | African UnionSkip to main contentNewsSeptember 09, 2024toSeptember 13, 2024Africa Industrialization Week (AIW)September 04, 2024toSeptember 06, 2024Africa Urban Forum : “Sustainable Urbanization for Africa’s Transformation: Agenda 2063”August 28, 2024High-Level Event on Commemorating the AU Year of Education 2024August 23, 2024The Government of Rwanda – African ...\n",
            "Title: Report of the Chairperson of the Commission on Terrorism and Violent Extremism in Africa at the Peace and Security Council 455th Meeting at the Level of Heads of State and Government, Nairobi, Kenya\n",
            "URL: https://au.int/en/speeches/20140902-0\n",
            "\n",
            "Content: Report of the Chairperson of the Commission on Terrorism and Violent Extremism in Africa at the Peace and Security Council 455th Meeting at the Level of Heads of State and Government, Nairobi, Kenya | African UnionSkip to main contentNewsSeptember 09, 2024toSeptember 13, 2024Africa Industrialization Week (AIW)September 04, 2024toSeptember 06, 2024Africa Urban Forum : “Sustainable Urbanization for Africa’s Transformation: Agenda 2063”August 28, 2024High-Level Event on Commemorating the AU Year of...\n",
            "Title: Report of the Chairperson of the Commission on Terrorism and Violent Extremism in Africa at the Peace and Security Council 455th Meeting at the Level of Heads of State and Government, Nairobi, Kenya\n",
            "URL: https://au.int/en/speeches/20140902-0\n",
            "\n",
            "Content: Report of the Chairperson of the Commission on Terrorism and Violent Extremism in Africa at the Peace and Security Council 455th Meeting at the Level of Heads of State and Government, Nairobi, Kenya | African UnionSkip to main contentNewsSeptember 09, 2024toSeptember 13, 2024Africa Industrialization Week (AIW)September 04, 2024toSeptember 06, 2024Africa Urban Forum : “Sustainable Urbanization for Africa’s Transformation: Agenda 2063”August 28, 2024High-Level Event on Commemorating the AU Year of...\n",
            "--------------------------------------------------------------------------------\n",
            "Searching for articles with keyword: Maiduguri\n",
            "Script snippet around function call:\n",
            "Extracted JSON string:\n",
            "[\n",
            "{\"title\":\"African Union Special Envoy on Women, Peace and Security in  Joint UN-AU High-Level Solidarity Mission to Nigeria and The Democratic Republic of Congo (DRC) \",\"url\":\"https:\\/\\/au.int\\/en\\/pressreleases\\/20170905\\/african-union-special-envoy-women-peace-and-security-joint-un-au-high-level\"},\n",
            "{\"title\":\"African Union Special Envoy on Women, Peace and Security in  Joint UN-AU High-Level Solidarity Mission to Nigeria and The Democratic Republic of Congo (DRC) \",\"url\":\"https:\\/\\/au.int\\/en\\/pressreleases\\/20170905\\/african-union-special-envoy-women-peace-and-security-joint-un-au-high-level\"}]\n",
            "Title: African Union Special Envoy on Women, Peace and Security in  Joint UN-AU High-Level Solidarity Mission to Nigeria and The Democratic Republic of Congo (DRC) \n",
            "URL: https://au.int/en/pressreleases/20170905/african-union-special-envoy-women-peace-and-security-joint-un-au-high-level\n",
            "\n",
            "Content: African Union Special Envoy on Women, Peace and Security in  Joint UN-AU High-Level Solidarity Mission to Nigeria and The Democratic Republic of Congo (DRC)  | African UnionSkip to main contentNewsSeptember 09, 2024toSeptember 13, 2024Africa Industrialization Week (AIW)September 04, 2024toSeptember 06, 2024Africa Urban Forum : “Sustainable Urbanization for Africa’s Transformation: Agenda 2063”August 28, 2024High-Level Event on Commemorating the AU Year of Education 2024August 23, 2024The Governm...\n",
            "Title: African Union Special Envoy on Women, Peace and Security in  Joint UN-AU High-Level Solidarity Mission to Nigeria and The Democratic Republic of Congo (DRC) \n",
            "URL: https://au.int/en/pressreleases/20170905/african-union-special-envoy-women-peace-and-security-joint-un-au-high-level\n",
            "\n",
            "Content: African Union Special Envoy on Women, Peace and Security in  Joint UN-AU High-Level Solidarity Mission to Nigeria and The Democratic Republic of Congo (DRC)  | African UnionSkip to main contentNewsSeptember 09, 2024toSeptember 13, 2024Africa Industrialization Week (AIW)September 04, 2024toSeptember 06, 2024Africa Urban Forum : “Sustainable Urbanization for Africa’s Transformation: Agenda 2063”August 28, 2024High-Level Event on Commemorating the AU Year of Education 2024August 23, 2024The Governm...\n",
            "--------------------------------------------------------------------------------\n"
          ]
        }
      ]
    }
  ]
}