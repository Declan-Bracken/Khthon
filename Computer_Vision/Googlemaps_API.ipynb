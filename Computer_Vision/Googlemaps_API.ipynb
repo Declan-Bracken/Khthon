{
 "cells": [
  {
   "cell_type": "code",
   "execution_count": null,
   "metadata": {},
   "outputs": [],
   "source": [
    "pip install requests"
   ]
  },
  {
   "cell_type": "code",
   "execution_count": null,
   "metadata": {},
   "outputs": [],
   "source": [
    "pip install fastkml"
   ]
  },
  {
   "cell_type": "code",
   "execution_count": null,
   "metadata": {},
   "outputs": [],
   "source": [
    "pip install shapely"
   ]
  },
  {
   "cell_type": "code",
   "execution_count": null,
   "metadata": {},
   "outputs": [],
   "source": [
    "from fastkml import kml\n",
    "import re\n",
    "import requests\n",
    "\n",
    "# Replace with your actual Google Maps API key\n",
    "API_KEY = 'YOUR_GOOGLE_MAPS_API_KEY'\n",
    "\n",
    "def extract_urls_from_kml(file_path):\n",
    "    def extract_placemarks(features):\n",
    "        for feature in features:\n",
    "            if isinstance(feature, kml.Folder):\n",
    "                extract_placemarks(feature.features())\n",
    "            elif isinstance(feature, kml.Placemark):\n",
    "                if hasattr(feature, 'description') and feature.description:\n",
    "                    urls.append(feature.description)\n",
    "    \n",
    "    with open(file_path, 'rt', encoding='utf-8') as file:\n",
    "        doc = file.read()\n",
    "    \n",
    "    k = kml.KML()\n",
    "    k.from_string(doc)\n",
    "    \n",
    "    urls = []\n",
    "    for feature in k.features():\n",
    "        extract_placemarks(feature.features())\n",
    "    \n",
    "    return urls\n"
   ]
  },
  {
   "cell_type": "code",
   "execution_count": null,
   "metadata": {},
   "outputs": [],
   "source": [
    "def extract_place_id_from_url(url):\n",
    "    # Look for standard Google Maps place URL patterns\n",
    "    match = re.search(r'place\\/(.*?)(\\/|$)', url)\n",
    "    if match:\n",
    "        return match.group(1)\n",
    "    match = re.search(r'place_id=([^&]*)', url)\n",
    "    if match:\n",
    "        return match.group(1)\n",
    "    # If place_id= is not found, handle other URL formats if necessary\n",
    "    return None\n"
   ]
  },
  {
   "cell_type": "code",
   "execution_count": null,
   "metadata": {},
   "outputs": [],
   "source": [
    "\n",
    "def fetch_place_details(place_id):\n",
    "    url = f'https://maps.googleapis.com/maps/api/place/details/json?place_id={place_id}&key={API_KEY}'\n",
    "    response = requests.get(url)\n",
    "    print(f\"Request URL: {url}\")  # Print the URL being requested\n",
    "    if response.status_code == 200:\n",
    "        return response.json()\n",
    "    else:\n",
    "        print(f\"Failed: Status Code {response.status_code}\")\n",
    "        print(f\"Response Content: {response.text}\")\n",
    "        print(f\"Failed to fetch data for place ID: {place_id}\")\n",
    "        return None\n"
   ]
  },
  {
   "cell_type": "code",
   "execution_count": 25,
   "metadata": {},
   "outputs": [
    {
     "name": "stderr",
     "output_type": "stream",
     "text": [
      "No geometries found\n",
      "No geometries found\n",
      "No geometries found\n",
      "No geometries found\n",
      "No geometries found\n",
      "No geometries found\n",
      "No geometries found\n",
      "No geometries found\n",
      "No geometries found\n"
     ]
    },
    {
     "name": "stdout",
     "output_type": "stream",
     "text": [
      "Request URL: https://maps.googleapis.com/maps/api/place/details/json?place_id=Sardar+Vallabhbhai+Patel+National+Memorial&key=YOUR_GOOGLE_MAPS_API_KEY\n",
      "Success: 200 OK\n",
      "Request URL: https://maps.googleapis.com/maps/api/place/details/json?place_id=Adalaj+Stepwell&key=YOUR_GOOGLE_MAPS_API_KEY\n",
      "Success: 200 OK\n",
      "Request URL: https://maps.googleapis.com/maps/api/place/details/json?place_id=Riverfront+Flower+Park&key=YOUR_GOOGLE_MAPS_API_KEY\n",
      "Success: 200 OK\n",
      "Request URL: https://maps.googleapis.com/maps/api/place/details/json?place_id=The+Calico+Museum+of+Textiles&key=YOUR_GOOGLE_MAPS_API_KEY\n",
      "Success: 200 OK\n",
      "Request URL: https://maps.googleapis.com/maps/api/place/details/json?place_id=Atal+Bridge&key=YOUR_GOOGLE_MAPS_API_KEY\n",
      "Success: 200 OK\n",
      "Request URL: https://maps.googleapis.com/maps/api/place/details/json?place_id=Sabarmati+Riverfront+Gandhi+Bridge+View+Point&key=YOUR_GOOGLE_MAPS_API_KEY\n",
      "Success: 200 OK\n",
      "Request URL: https://maps.googleapis.com/maps/api/place/details/json?place_id=Rani+no+Hajiro&key=YOUR_GOOGLE_MAPS_API_KEY\n",
      "Success: 200 OK\n",
      "Request URL: https://maps.googleapis.com/maps/api/place/details/json?place_id=Ahmedabad+Heritage+Walk&key=YOUR_GOOGLE_MAPS_API_KEY\n",
      "Success: 200 OK\n",
      "Request URL: https://maps.googleapis.com/maps/api/place/details/json?place_id=Sabarmati+Riverfront&key=YOUR_GOOGLE_MAPS_API_KEY\n",
      "Success: 200 OK\n"
     ]
    }
   ],
   "source": [
    "\n",
    "def get_coordinates_from_place_details(place_details):\n",
    "    if 'result' in place_details:\n",
    "        result = place_details['result']\n",
    "        name = result.get('name')\n",
    "        geometry = result.get('geometry', {})\n",
    "        location = geometry.get('location', {})\n",
    "        if location:\n",
    "            lat = location.get('lat')\n",
    "            lon = location.get('lng')\n",
    "            if lat is not None and lon is not None:\n",
    "                return name, lat, lon\n",
    "    return None\n",
    "\n",
    "def fetch_saved_places_coordinates(place_ids):\n",
    "    coordinates = []\n",
    "    for place_id in place_ids:\n",
    "        place_details = fetch_place_details(place_id)\n",
    "        if place_details:\n",
    "            place_info = get_coordinates_from_place_details(place_details)\n",
    "            if place_info:\n",
    "                coordinates.append(place_info)\n",
    "    return coordinates\n",
    "\n",
    "# Path to your downloaded KML file\n",
    "file_path = 'D:/test/Untitled map (1).kml'\n",
    "\n",
    "# Extract URLs from the KML file\n",
    "urls = extract_urls_from_kml(file_path)\n",
    "\n",
    "# Extract Place IDs from the URLs\n",
    "place_ids = [extract_place_id_from_url(url) for url in urls if extract_place_id_from_url(url)]\n",
    "\n",
    "# Fetch and print coordinates\n",
    "coordinates = fetch_saved_places_coordinates(place_ids)\n",
    "for name, lat, lon in coordinates:\n",
    "    print(f\"Name: {name}, Latitude: {lat}, Longitude: {lon}\")\n",
    "\n"
   ]
  }
 ],
 "metadata": {
  "kernelspec": {
   "display_name": "Python 3",
   "language": "python",
   "name": "python3"
  },
  "language_info": {
   "codemirror_mode": {
    "name": "ipython",
    "version": 3
   },
   "file_extension": ".py",
   "mimetype": "text/x-python",
   "name": "python",
   "nbconvert_exporter": "python",
   "pygments_lexer": "ipython3",
   "version": "3.12.1"
  }
 },
 "nbformat": 4,
 "nbformat_minor": 2
}
