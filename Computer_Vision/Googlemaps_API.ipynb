{
 "cells": [
  {
   "cell_type": "code",
   "execution_count": 1,
   "metadata": {},
   "outputs": [
    {
     "name": "stdout",
     "output_type": "stream",
     "text": [
      "Requirement already satisfied: requests in c:\\users\\mrunal kulkarni\\appdata\\roaming\\python\\python312\\site-packages (2.31.0)\n",
      "Requirement already satisfied: charset-normalizer<4,>=2 in c:\\users\\mrunal kulkarni\\appdata\\roaming\\python\\python312\\site-packages (from requests) (3.3.2)\n",
      "Requirement already satisfied: idna<4,>=2.5 in c:\\python312\\lib\\site-packages (from requests) (3.6)\n",
      "Requirement already satisfied: urllib3<3,>=1.21.1 in c:\\python312\\lib\\site-packages (from requests) (2.1.0)\n",
      "Requirement already satisfied: certifi>=2017.4.17 in c:\\users\\mrunal kulkarni\\appdata\\roaming\\python\\python312\\site-packages (from requests) (2023.11.17)\n",
      "Note: you may need to restart the kernel to use updated packages.\n"
     ]
    },
    {
     "name": "stderr",
     "output_type": "stream",
     "text": [
      "\n",
      "[notice] A new release of pip is available: 23.2.1 -> 24.0\n",
      "[notice] To update, run: python.exe -m pip install --upgrade pip\n"
     ]
    }
   ],
   "source": [
    "pip install requests"
   ]
  },
  {
   "cell_type": "markdown",
   "metadata": {},
   "source": [
    "import requests\n",
    "\n",
    "# Your Google Maps API key\n",
    "API_KEY = 'YOUR_API_KEY'\n",
    "\n",
    "# Function to get coordinates using Google Maps Geocoding API\n",
    "def get_coordinates(place_name):\n",
    "    url = f\"https://maps.googleapis.com/maps/api/geocode/json?address={place_name}&key={API_KEY}\"\n",
    "    response = requests.get(url)\n",
    "    if response.status_code == 200:\n",
    "        data = response.json()\n",
    "        if data['status'] == 'OK':\n",
    "            coordinates = data['results'][0]['geometry']['location']\n",
    "            return coordinates['lat'], coordinates['lng']\n",
    "        else:\n",
    "            print(f\"Error finding coordinates for {place_name}: {data['status']}\")\n",
    "            return None\n",
    "    else:\n",
    "        print(f\"HTTP error: {response.status_code}\")\n",
    "        return None\n",
    "\n",
    "# List of places (churches) from your dataset\n",
    "places = [\n",
    "    \"Church Name 1, City, Country\",\n",
    "    \"Church Name 2, City, Country\",\n",
    "    # Add more places as needed\n",
    "]\n",
    "\n",
    "# Get coordinates for each place and store in a list\n",
    "coordinates_list = []\n",
    "for place in places:\n",
    "    coords = get_coordinates(place)\n",
    "    if coords:\n",
    "        coordinates_list.append(coords)\n",
    "\n",
    "# Print the coordinates list\n",
    "for place, coords in zip(places, coordinates_list):\n",
    "    print(f\"{place}: {coords}\")\n"
   ]
  }
 ],
 "metadata": {
  "kernelspec": {
   "display_name": "Python 3",
   "language": "python",
   "name": "python3"
  },
  "language_info": {
   "codemirror_mode": {
    "name": "ipython",
    "version": 3
   },
   "file_extension": ".py",
   "mimetype": "text/x-python",
   "name": "python",
   "nbconvert_exporter": "python",
   "pygments_lexer": "ipython3",
   "version": "3.12.1"
  }
 },
 "nbformat": 4,
 "nbformat_minor": 2
}
