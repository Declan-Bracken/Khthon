{
 "cells": [
  {
   "cell_type": "code",
   "execution_count": 9,
   "metadata": {},
   "outputs": [],
   "source": [
    "import requests\n",
    "from PIL import Image\n",
    "from io import BytesIO\n",
    "import sys\n",
    "\n",
    "# Function to fetch a satellite image from Google Maps API\n",
    "def fetch_image(latitude, longitude, zoom=18, size=(640, 640), maptype='satellite', api_key='YOUR_API_KEY'):\n",
    "    url = f\"https://maps.googleapis.com/maps/api/staticmap?center={latitude},{longitude}&zoom={zoom}&size={size[0]}x{size[1]}&maptype={maptype}&key={api_key}\"\n",
    "    response = requests.get(url)\n",
    "    image = Image.open(BytesIO(response.content))\n",
    "    return image\n"
   ]
  },
  {
   "cell_type": "code",
   "execution_count": 23,
   "metadata": {},
   "outputs": [],
   "source": [
    "with open('api_key.txt', 'r') as file:\n",
    "    api_key = file.read()\n",
    "# Location for st.kidane mihret church\n",
    "latitude, longitude = (9.105704174639172, 38.646911907819145)\n",
    "zoom = 18\n",
    "image = fetch_image(latitude, longitude, zoom=zoom, api_key = api_key)"
   ]
  },
  {
   "cell_type": "code",
   "execution_count": 24,
   "metadata": {},
   "outputs": [],
   "source": [
    "# Check the image\n",
    "image.show()"
   ]
  },
  {
   "cell_type": "code",
   "execution_count": 3,
   "metadata": {},
   "outputs": [],
   "source": [
    "from ultralytics import YOLO\n",
    "\n",
    "model = YOLO('/Users/declanbracken/Development/Khthon/code/Computer_Vision/models/v1/best.pt')\n",
    "\n",
    "# Function to preprocess images and perform inference\n",
    "def detect_churches(image):\n",
    "    results = model(image)\n",
    "    # boxes = results[0].boxes\n",
    "    return results"
   ]
  },
  {
   "cell_type": "code",
   "execution_count": 14,
   "metadata": {},
   "outputs": [
    {
     "name": "stdout",
     "output_type": "stream",
     "text": [
      "\n",
      "0: 640x640 (no detections), 175.1ms\n",
      "Speed: 2.7ms preprocess, 175.1ms inference, 0.3ms postprocess per image at shape (1, 3, 640, 640)\n"
     ]
    }
   ],
   "source": [
    "import numpy as np\n",
    "\n",
    "# Function to generate grid coordinates\n",
    "def generate_grid(center_lat, center_lon, area_km, img_size=0.36): # 360 meters in image width corresponding to zoom 18\n",
    "    # This is a rough conversion of area to lat/lon\n",
    "    lat_range = area_km / 111.32  # 1 degree of latitude is approximately 111.32 km\n",
    "    lon_range = area_km / (111.32 * np.cos(center_lat * np.pi / 180))\n",
    "\n",
    "    lat_img = img_size / 111.32\n",
    "    lon_img = img_size / (111.32 * np.cos(center_lat * np.pi / 180))\n",
    "\n",
    "    latitudes = np.arange(center_lat - lat_range/2, center_lat + lat_range/2, lat_img)\n",
    "    longitudes = np.arange(center_lon - lon_range/2, center_lon + lon_range/2, lon_img)\n",
    "    \n",
    "    grid_coords = [(lat, lon) for lat in latitudes for lon in longitudes]\n",
    "    return grid_coords\n",
    "\n",
    "zoom_to_area = {18: 0.36, 19: 0.179}\n",
    "\n",
    "# Example usage to generate grid coordinates\n",
    "api_key = ''\n",
    "center_lat, center_lon = (9.105704174639172, 38.646911907819145)  # Example coordinates\n",
    "area_km = 1\n",
    "zoom = 18\n",
    "img_size = zoom_to_area[zoom]\n",
    "grid_coords = generate_grid(center_lat, center_lon, area_km, img_size=img_size)\n",
    "# print(grid_coords)\n",
    "# Perform detection on each grid point\n",
    "detections = []\n",
    "confidence = []\n",
    "for coord in grid_coords:\n",
    "    image = fetch_image(coord[0], coord[1], api_key=api_key, zoom = zoom)\n",
    "    results = detect_churches(image)\n",
    "    detections.append(results)\n"
   ]
  },
  {
   "cell_type": "code",
   "execution_count": 15,
   "metadata": {},
   "outputs": [],
   "source": [
    "result = detections[0]\n",
    "result[0].show()"
   ]
  },
  {
   "cell_type": "code",
   "execution_count": 20,
   "metadata": {},
   "outputs": [
    {
     "name": "stdout",
     "output_type": "stream",
     "text": [
      "\n",
      "0: 640x640 1 octagon-church, 105.1ms\n",
      "Speed: 2.6ms preprocess, 105.1ms inference, 0.9ms postprocess per image at shape (1, 3, 640, 640)\n"
     ]
    }
   ],
   "source": [
    "boxes = detect_churches(image)"
   ]
  },
  {
   "cell_type": "code",
   "execution_count": 24,
   "metadata": {},
   "outputs": [
    {
     "name": "stdout",
     "output_type": "stream",
     "text": [
      "ultralytics.engine.results.Boxes object with attributes:\n",
      "\n",
      "cls: tensor([1.])\n",
      "conf: tensor([0.6806])\n",
      "data: tensor([[306.5905, 313.8973, 335.4470, 339.4632,   0.6806,   1.0000]])\n",
      "id: None\n",
      "is_track: False\n",
      "orig_shape: (640, 640)\n",
      "shape: torch.Size([1, 6])\n",
      "xywh: tensor([[321.0187, 326.6802,  28.8564,  25.5659]])\n",
      "xywhn: tensor([[0.5016, 0.5104, 0.0451, 0.0399]])\n",
      "xyxy: tensor([[306.5905, 313.8973, 335.4470, 339.4632]])\n",
      "xyxyn: tensor([[0.4790, 0.4905, 0.5241, 0.5304]])\n"
     ]
    }
   ],
   "source": [
    "print(boxes)"
   ]
  }
 ],
 "metadata": {
  "kernelspec": {
   "display_name": "Python 3",
   "language": "python",
   "name": "python3"
  },
  "language_info": {
   "codemirror_mode": {
    "name": "ipython",
    "version": 3
   },
   "file_extension": ".py",
   "mimetype": "text/x-python",
   "name": "python",
   "nbconvert_exporter": "python",
   "pygments_lexer": "ipython3",
   "version": "3.11.4"
  }
 },
 "nbformat": 4,
 "nbformat_minor": 2
}
